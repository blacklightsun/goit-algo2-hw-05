{
 "cells": [
  {
   "cell_type": "code",
   "execution_count": 1,
   "id": "6c6a8485",
   "metadata": {},
   "outputs": [],
   "source": [
    "# вимикаємо зайві попередження\n",
    "import warnings\n",
    "warnings.filterwarnings(\"ignore\")\n",
    "\n",
    "# друк всіх результатів в одній комірці а не тільки останнього\n",
    "from IPython.core.interactiveshell import InteractiveShell\n",
    "InteractiveShell.ast_node_interactivity = \"all\""
   ]
  },
  {
   "cell_type": "code",
   "execution_count": 2,
   "id": "8e2babf8",
   "metadata": {},
   "outputs": [],
   "source": [
    "import mmh3\n",
    "\n",
    "class BloomFilter:\n",
    "    def __init__(self, size, num_hashes):\n",
    "        \"\"\"\n",
    "\t\tІніціалізація фільтру Блума.\n",
    "        :param size: Розмір бітового масиву (кількість бітів).\n",
    "\t\t:param num_hashes: Кількість хеш-функцій, які будуть використовуватися.\n",
    "        Для виконання умови завдання щодо використання мінімуму пам'яті в якості бітового масиву використовується bitearray,\n",
    "        що дозволяє зберігати біти в компактному вигляді (масив на 1000 бітів займає 125 байтів, а не +1000 байтів як звичайний масив).\n",
    "\t\t\"\"\"\n",
    "        self.size = size\n",
    "        self.num_hashes = num_hashes\n",
    "        self.bit_array = bytearray((self.size + 7) // 8)\n",
    "\n",
    "\n",
    "    def add(self, item):\n",
    "        for i in range(self.num_hashes):\n",
    "            index = mmh3.hash(item, i) % self.size\n",
    "            self.bit_array[index // 8] |= (1 << (7 - index % 8))\n",
    "            \n",
    "\n",
    "    def contains(self, item):\n",
    "        for i in range(self.num_hashes):\n",
    "            index = mmh3.hash(item, i) % self.size\n",
    "            if ((self.bit_array[(index // 8)] >> (7 - (index % 8))) & 1) == 0:\n",
    "                return False\n",
    "        return True"
   ]
  },
  {
   "cell_type": "code",
   "execution_count": 3,
   "id": "9981283e",
   "metadata": {},
   "outputs": [],
   "source": [
    "def check_password_uniqueness(filter, password_list):\n",
    "\tresults = {}\n",
    "\tfor password in password_list:\n",
    "\t\tif filter.contains(password):\n",
    "\t\t\tresults[password] = \"вже використаний\"\n",
    "\t\telse:\n",
    "\t\t\tresults[password] = \"унікальний\"\n",
    "\treturn results\n",
    "\t"
   ]
  },
  {
   "cell_type": "code",
   "execution_count": 4,
   "id": "7122d89e",
   "metadata": {},
   "outputs": [
    {
     "name": "stdout",
     "output_type": "stream",
     "text": [
      "Пароль 'password123' - вже використаний.\n",
      "Пароль 'newpassword' - унікальний.\n",
      "Пароль 'admin123' - вже використаний.\n",
      "Пароль 'guest' - унікальний.\n"
     ]
    }
   ],
   "source": [
    "if __name__ == \"__main__\":\n",
    "    # Ініціалізація фільтра Блума\n",
    "    bloom = BloomFilter(size=1000, num_hashes=3)\n",
    "\n",
    "    # Додавання існуючих паролів\n",
    "    existing_passwords = [\"password123\", \"admin123\", \"qwerty123\"]\n",
    "    for password in existing_passwords:\n",
    "        bloom.add(password)\n",
    "\n",
    "    # Перевірка нових паролів\n",
    "    new_passwords_to_check = [\"password123\", \"newpassword\", \"admin123\", \"guest\"]\n",
    "    results = check_password_uniqueness(bloom, new_passwords_to_check)\n",
    "\n",
    "    # Виведення результатів\n",
    "    for password, status in results.items():\n",
    "        print(f\"Пароль '{password}' - {status}.\")"
   ]
  }
 ],
 "metadata": {
  "kernelspec": {
   "display_name": "Python 3 (ipykernel)",
   "language": "python",
   "name": "python3"
  }
 },
 "nbformat": 4,
 "nbformat_minor": 5
}
