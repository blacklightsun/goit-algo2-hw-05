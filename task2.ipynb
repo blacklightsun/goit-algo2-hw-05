{
 "cells": [
  {
   "cell_type": "code",
   "execution_count": 1,
   "id": "1ea8b96c",
   "metadata": {},
   "outputs": [],
   "source": [
    "# вимикаємо зайві попередження\n",
    "import warnings\n",
    "warnings.filterwarnings(\"ignore\")\n",
    "\n",
    "# друк всіх результатів в одній комірці а не тільки останнього\n",
    "from IPython.core.interactiveshell import InteractiveShell\n",
    "InteractiveShell.ast_node_interactivity = \"all\""
   ]
  },
  {
   "cell_type": "code",
   "execution_count": 2,
   "id": "ec3c423c",
   "metadata": {},
   "outputs": [],
   "source": [
    "import re\n",
    "import time\n",
    "import mmh3\n",
    "import math\n",
    "import datasketch"
   ]
  },
  {
   "cell_type": "code",
   "execution_count": 3,
   "id": "8758d152",
   "metadata": {},
   "outputs": [
    {
     "name": "stdout",
     "output_type": "stream",
     "text": [
      "Кількість рядків: 29553\n",
      "Загальна кількість витягнутих з текста неунікальних ip-адрес: 29553\n"
     ]
    }
   ],
   "source": [
    "# Підготовка даних\n",
    "\n",
    "k = 1 # коефіцієнт  масштабування списку адрес для тестування на великих масивах\n",
    "\n",
    "ip_pattern = re.compile(r'\\b(?:25[0-5]|2[0-4]\\d|1\\d{2}|[1-9]?\\d)\\.' \n",
    "                     r'(?:25[0-5]|2[0-4]\\d|1\\d{2}|[1-9]?\\d)\\.' \n",
    "                     r'(?:25[0-5]|2[0-4]\\d|1\\d{2}|[1-9]?\\d)\\.' \n",
    "                     r'(?:25[0-5]|2[0-4]\\d|1\\d{2}|[1-9]?\\d)\\b')\n",
    "\n",
    "with open('work/lms-stage-access.log', 'r', encoding='utf-8') as f:\n",
    "    text = f.readlines()\n",
    "\n",
    "print('Кількість рядків:', len(text))\n",
    "ip_list = []\n",
    "\n",
    "# ip_set = set()\n",
    "for line in text:\n",
    "    ip_list.append(ip_pattern.findall(line)[0]) # вибираємо першу знайдену ip-адресу в кожному рядку (remote address)\n",
    "    \n",
    "ip_list = ip_list * k\n",
    "    \n",
    "print('Загальна кількість витягнутих з текста неунікальних ip-адрес:', len(ip_list))"
   ]
  },
  {
   "cell_type": "code",
   "execution_count": 4,
   "id": "6dd5c3f3",
   "metadata": {},
   "outputs": [],
   "source": [
    "# Тестуємо швидкість виконання коду на множинах set (структура даних в Python)\n",
    "\n",
    "start_time = time.monotonic()    \n",
    "ip_set = set(ip_list)\n",
    "set_cardinality = len(ip_set)\n",
    "set_duration = time.monotonic()  - start_time\n",
    "\n",
    "\n",
    "# print(f'Час виконання: {set_duration:.6f} секунд')\n",
    "# print(f'Кількість унікальних IP-адрес: {set_cardinality}')"
   ]
  },
  {
   "cell_type": "code",
   "execution_count": 5,
   "id": "acfa6e62",
   "metadata": {},
   "outputs": [],
   "source": [
    "# Тестуємо швидкість виконання коду на кастомній структурі даних, яка працює як множина set, але як скрипт Python, а не як вбудована структура даних на C\n",
    "\n",
    "custom_set_as_list = []\n",
    "\n",
    "start_time = time.monotonic()    \n",
    "for ip in ip_list:\n",
    "\tif ip not in custom_set_as_list:\n",
    "\t\tcustom_set_as_list.append(ip)\n",
    "custom_set_cardinality = len(custom_set_as_list)\n",
    "custom_set_duration = time.monotonic()  - start_time\n",
    "\n",
    "\n",
    "# print(f'Час виконання: {custom_set_duration:.6f} секунд')\n",
    "# print(f'Кількість унікальних IP-адрес: {custom_set_cardinality}')"
   ]
  },
  {
   "cell_type": "code",
   "execution_count": 6,
   "id": "f252a6d3",
   "metadata": {},
   "outputs": [],
   "source": [
    "# Тестуємо швидкість виконання коду за допомогою алгоритму HyperLogLog (реалізація на Python без використання сторонніх бібліотек), код з конспекту лекції\n",
    "\n",
    "class PythonHyperLogLog:\n",
    "    def __init__(self, p=5):\n",
    "        self.p = p\n",
    "        self.m = 1 << p\n",
    "        self.registers = [0] * self.m\n",
    "        self.alpha = self._get_alpha()\n",
    "        self.small_range_correction = 5 * self.m / 2  # Поріг для малих значень\n",
    "\n",
    "    def _get_alpha(self):\n",
    "        if self.p <= 16:\n",
    "            return 0.673\n",
    "        elif self.p == 32:\n",
    "            return 0.697\n",
    "        else:\n",
    "            return 0.7213 / (1 + 1.079 / self.m)\n",
    "\n",
    "    def add(self, item):\n",
    "        x = mmh3.hash(str(item), signed=False)\n",
    "        j = x & (self.m - 1)\n",
    "        w = x >> self.p\n",
    "        self.registers[j] = max(self.registers[j], self._rho(w))\n",
    "\n",
    "    def _rho(self, w):\n",
    "        return len(bin(w)) - 2 if w > 0 else 32\n",
    "\n",
    "    def count(self):\n",
    "        Z = sum(2.0 ** -r for r in self.registers)\n",
    "        E = self.alpha * self.m * self.m / Z\n",
    "        \n",
    "        if E <= self.small_range_correction:\n",
    "            V = self.registers.count(0)\n",
    "            if V > 0:\n",
    "                return self.m * math.log(self.m / V)\n",
    "        \n",
    "        return E\n",
    "\n",
    "# Приклад використання\n",
    "phll = PythonHyperLogLog(p=14)\n",
    "\n",
    "start_time = time.monotonic()  \n",
    "for ip in ip_list:\n",
    "    phll.add(ip)\n",
    "phhl_estimated_cardinality = phll.count()\n",
    "phhl_duration = time.monotonic() - start_time\n",
    "\n",
    "# print(f'Час виконання: {phhl_duration:.6f} секунд')\n",
    "# print(f\"Оцінена кардинальність: {phhl_estimated_cardinality}\")"
   ]
  },
  {
   "cell_type": "code",
   "execution_count": 7,
   "id": "642485b9",
   "metadata": {},
   "outputs": [],
   "source": [
    "# Тестуємо швидкість виконання коду за допомогою алгоритму HyperLogLog (реалізація за допомогою бібліотеки datasketch, код з конспекту лекції\n",
    "\n",
    "# Ініціалізація HyperLogLog\n",
    "ds_hll = datasketch.HyperLogLog(p=14)\n",
    "\n",
    "\n",
    "start_time = time.monotonic() \n",
    "for data in ip_list:\n",
    "    ds_hll.update(data.encode('utf-8'))\n",
    "ds_hll_estimated_cardinality = ds_hll.count()\n",
    "ds_hhl_duration = time.monotonic()  - start_time\n",
    "\n",
    "# print(f'Час виконання: {ds_hll_estimated_cardinality:.6f} секунд')\n",
    "# print(f\"Оцінена кардинальність: {ds_hhl_duration}\")"
   ]
  },
  {
   "cell_type": "code",
   "execution_count": 8,
   "id": "f27a22d0",
   "metadata": {},
   "outputs": [
    {
     "name": "stdout",
     "output_type": "stream",
     "text": [
      "Результати порівняння:\n",
      "Python set              :                 28 унікальних IP-адрес, час виконання: 0.001318 секунд\n",
      "Кастомний set           :                 28 унікальних IP-адрес, час виконання: 0.008700 секунд\n",
      "HyperLogLog (Python)    : 28.023953075428718 унікальних IP-адрес, час виконання: 0.042895 секунд\n",
      "HyperLogLog (datasketch): 28.023953075428718 унікальних IP-адрес, час виконання: 0.093938 секунд\n"
     ]
    }
   ],
   "source": [
    "print('Результати порівняння:')\n",
    "print(f'Python set              : {set_cardinality:>18} унікальних IP-адрес, час виконання: {set_duration:.6f} секунд')\n",
    "print(f'Кастомний set           : {custom_set_cardinality:>18} унікальних IP-адрес, час виконання: {custom_set_duration:.6f} секунд')\n",
    "print(f'HyperLogLog (Python)    : {phhl_estimated_cardinality:>18} унікальних IP-адрес, час виконання: {phhl_duration:.6f} секунд')\n",
    "print(f'HyperLogLog (datasketch): {ds_hll_estimated_cardinality:>18} унікальних IP-адрес, час виконання: {ds_hhl_duration:.6f} секунд')"
   ]
  },
  {
   "cell_type": "markdown",
   "id": "241e7c58",
   "metadata": {},
   "source": [
    "Висновки:\n",
    "=========\n",
    "1. Різниця між __Python set__ та __Кастомний set__ - очикувана.\n",
    "2. Різниця між __Кастомний set__ та __HyperLogLog (Python)__ / __HyperLogLog (datasketch)__ - зворотня очикуваному. Тестування на масивах даних різного масштабу (наприклад, k = 1000) не показали суттєвої різниці. Тобто справа не в розміру масиву даних.\n",
    "3. Скоріш за все причина такого результату, що нативні функції Python реалізовіані на C (інтерпретатор Python написаний на C), на відміну від обох реалізацій HyperLogLog (datasketch теж написаний на Python), хоча і з використанням Numpy."
   ]
  },
  {
   "cell_type": "code",
   "execution_count": null,
   "id": "dff75b48",
   "metadata": {},
   "outputs": [],
   "source": []
  }
 ],
 "metadata": {
  "kernelspec": {
   "display_name": "Python 3 (ipykernel)",
   "language": "python",
   "name": "python3"
  },
  "language_info": {
   "codemirror_mode": {
    "name": "ipython",
    "version": 3
   },
   "file_extension": ".py",
   "mimetype": "text/x-python",
   "name": "python",
   "nbconvert_exporter": "python",
   "pygments_lexer": "ipython3",
   "version": "3.12.10"
  }
 },
 "nbformat": 4,
 "nbformat_minor": 5
}
